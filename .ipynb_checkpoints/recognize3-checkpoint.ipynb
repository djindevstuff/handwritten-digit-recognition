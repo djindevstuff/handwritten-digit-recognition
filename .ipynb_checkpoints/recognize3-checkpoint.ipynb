{
 "cells": [
  {
   "cell_type": "code",
   "execution_count": 1,
   "id": "7ee01442",
   "metadata": {},
   "outputs": [],
   "source": [
    "import numpy as np\n",
    "import pandas as pd\n",
    "import tensorflow as tf\n",
    "from skimage import io, transform\n",
    "from sklearn.model_selection import train_test_split, GridSearchCV\n",
    "from sklearn.metrics import accuracy_score"
   ]
  },
  {
   "cell_type": "code",
   "execution_count": 4,
   "id": "66508698",
   "metadata": {},
   "outputs": [],
   "source": [
    "from keras.models import Sequential\n",
    "from keras.layers import Conv2D, MaxPool2D, Dropout, Flatten, Dense, BatchNormalization\n",
    "from tensorflow.keras.utils import to_categorical\n",
    "from tensorflow.keras.preprocessing.image import ImageDataGenerator\n",
    "from tensorflow.keras.optimizers import RMSprop\n",
    "from tensorflow.keras.callbacks import ReduceLROnPlateau\n",
    "from tensorflow.keras.datasets import mnist"
   ]
  },
  {
   "cell_type": "code",
   "execution_count": 12,
   "id": "34edc58c",
   "metadata": {},
   "outputs": [
    {
     "name": "stdout",
     "output_type": "stream",
     "text": [
      "(42000, 785) (28000, 784)\n"
     ]
    }
   ],
   "source": [
    "train_data = pd.read_csv(\"input/train.csv\")\n",
    "test_data = pd.read_csv(\"input/test.csv\")\n",
    "print(train_data.shape, test_data.shape)"
   ]
  },
  {
   "cell_type": "code",
   "execution_count": 13,
   "id": "f9152e4c",
   "metadata": {},
   "outputs": [
    {
     "name": "stdout",
     "output_type": "stream",
     "text": [
      "(70000, 28, 28, 1) (70000,)\n"
     ]
    }
   ],
   "source": [
    "(x_train1, y_train1), (x_test1, y_test1) = mnist.load_data()\n",
    "x_train1 = np.concatenate((x_test1, x_train1))\n",
    "y_train1 = np.concatenate((y_test1, y_train1))\n",
    "\n",
    "x_train1 = x_train1.reshape((x_train1.shape[0], 28, 28, 1))\n",
    "print(x_train1.shape, y_train1.shape)"
   ]
  },
  {
   "cell_type": "code",
   "execution_count": 14,
   "id": "51faa3c0",
   "metadata": {},
   "outputs": [
    {
     "name": "stdout",
     "output_type": "stream",
     "text": [
      "(112000, 28, 28, 1) (112000, 10)\n"
     ]
    }
   ],
   "source": [
    "x = np.array(train_data.drop(['label'], axis = 1))\n",
    "y = np.array(train_data['label'])\n",
    "test_data = np.array(test_data)\n",
    "\n",
    "x = x.reshape((x.shape[0], 28, 28, 1))\n",
    "test_data = test_data.reshape(test_data.shape[0], 28, 28, 1)\n",
    "\n",
    "x = np.concatenate((x, x_train1))\n",
    "y = np.concatenate((y, y_train1))\n",
    "\n",
    "x = x/255\n",
    "test_data = test_data/255\n",
    "y = to_categorical(y, num_classes = 10)\n",
    "\n",
    "print(x.shape, y.shape)"
   ]
  },
  {
   "cell_type": "code",
   "execution_count": 15,
   "id": "39ca9390",
   "metadata": {},
   "outputs": [
    {
     "name": "stdout",
     "output_type": "stream",
     "text": [
      "(100800, 28, 28, 1) (100800, 10) (11200, 28, 28, 1) (11200, 10)\n"
     ]
    }
   ],
   "source": [
    "x_train, x_test, y_train, y_test = train_test_split(x, y, test_size = 0.10, shuffle = True)\n",
    "print(x_train.shape, y_train.shape, x_test.shape, y_test.shape)"
   ]
  },
  {
   "cell_type": "code",
   "execution_count": 17,
   "id": "b3d7ce88",
   "metadata": {},
   "outputs": [
    {
     "name": "stdout",
     "output_type": "stream",
     "text": [
      "Model: \"sequential_1\"\n",
      "_________________________________________________________________\n",
      " Layer (type)                Output Shape              Param #   \n",
      "=================================================================\n",
      " conv2d_6 (Conv2D)           (None, 26, 26, 32)        320       \n",
      "                                                                 \n",
      " conv2d_7 (Conv2D)           (None, 24, 24, 32)        9248      \n",
      "                                                                 \n",
      " max_pooling2d_1 (MaxPooling  (None, 12, 12, 32)       0         \n",
      " 2D)                                                             \n",
      "                                                                 \n",
      " batch_normalization_3 (Batc  (None, 12, 12, 32)       128       \n",
      " hNormalization)                                                 \n",
      "                                                                 \n",
      " conv2d_8 (Conv2D)           (None, 10, 10, 64)        18496     \n",
      "                                                                 \n",
      " conv2d_9 (Conv2D)           (None, 8, 8, 64)          36928     \n",
      "                                                                 \n",
      " batch_normalization_4 (Batc  (None, 8, 8, 64)         256       \n",
      " hNormalization)                                                 \n",
      "                                                                 \n",
      " conv2d_10 (Conv2D)          (None, 6, 6, 64)          36928     \n",
      "                                                                 \n",
      " conv2d_11 (Conv2D)          (None, 4, 4, 64)          36928     \n",
      "                                                                 \n",
      " batch_normalization_5 (Batc  (None, 4, 4, 64)         256       \n",
      " hNormalization)                                                 \n",
      "                                                                 \n",
      " flatten_1 (Flatten)         (None, 1024)              0         \n",
      "                                                                 \n",
      " dense_2 (Dense)             (None, 128)               131200    \n",
      "                                                                 \n",
      " dropout_1 (Dropout)         (None, 128)               0         \n",
      "                                                                 \n",
      " dense_3 (Dense)             (None, 10)                1290      \n",
      "                                                                 \n",
      "=================================================================\n",
      "Total params: 271,978\n",
      "Trainable params: 271,658\n",
      "Non-trainable params: 320\n",
      "_________________________________________________________________\n"
     ]
    }
   ],
   "source": [
    "model = Sequential()\n",
    "\n",
    "model.add(Conv2D(filters = 32, kernel_size = (3,3), activation ='relu', input_shape = (28,28,1)))\n",
    "model.add(Conv2D(filters = 32, kernel_size = (3,3), activation ='relu'))\n",
    "model.add(MaxPool2D((2,2)))\n",
    "\n",
    "model.add(BatchNormalization())\n",
    "\n",
    "model.add(Conv2D(filters = 64, kernel_size = (3,3), activation ='relu'))\n",
    "model.add(Conv2D(filters = 64, kernel_size = (3,3), activation ='relu'))\n",
    "\n",
    "model.add(BatchNormalization())\n",
    "\n",
    "model.add(Conv2D(filters = 64, kernel_size = (3,3), activation ='relu'))\n",
    "model.add(Conv2D(filters = 64, kernel_size = (3,3), activation ='relu'))\n",
    "\n",
    "model.add(BatchNormalization())\n",
    "\n",
    "model.add(Flatten())\n",
    "\n",
    "model.add(Dense(128, activation = \"relu\"))\n",
    "model.add(Dropout(0.30))\n",
    "model.add(Dense(10, activation = \"softmax\"))\n",
    "\n",
    "\n",
    "optimizer = RMSprop(learning_rate = 0.01, rho = 0.9, epsilon = 1e-08, decay = 0.0)\n",
    "\n",
    "model.compile(optimizer = optimizer, loss = 'categorical_crossentropy', metrics = ['accuracy'])\n",
    "\n",
    "model.summary()"
   ]
  },
  {
   "cell_type": "code",
   "execution_count": 18,
   "id": "c657fe52",
   "metadata": {},
   "outputs": [],
   "source": [
    "datagen = ImageDataGenerator(rotation_range = 10, zoom_range = 0.1, width_shift_range = 0.1, height_shift_range = 0.1,)\n",
    "\n",
    "train_batch = datagen.flow(x, y, batch_size = 64)\n",
    "val_batch = datagen.flow(x_test, y_test, batch_size = 64)"
   ]
  },
  {
   "cell_type": "code",
   "execution_count": 19,
   "id": "52efee15",
   "metadata": {},
   "outputs": [],
   "source": [
    "learning_rate_reduction = ReduceLROnPlateau(monitor = 'val_loss', patience = 3, verbose = 1, factor = 0.1, min_lr = 0.00001)"
   ]
  },
  {
   "cell_type": "code",
   "execution_count": 29,
   "id": "8acc2969",
   "metadata": {},
   "outputs": [
    {
     "name": "stdout",
     "output_type": "stream",
     "text": [
      "Epoch 1/5\n",
      "1750/1750 [==============================] - 156s 89ms/step - loss: 0.5241 - accuracy: 0.9352 - val_loss: 0.5613 - val_accuracy: 0.9648 - lr: 0.0100\n",
      "Epoch 2/5\n",
      "1750/1750 [==============================] - 155s 89ms/step - loss: 0.5593 - accuracy: 0.9349 - val_loss: 0.5196 - val_accuracy: 0.9555 - lr: 0.0100\n",
      "Epoch 3/5\n",
      "1750/1750 [==============================] - 154s 88ms/step - loss: 0.6084 - accuracy: 0.9320 - val_loss: 0.4035 - val_accuracy: 0.9310 - lr: 0.0100\n",
      "Epoch 4/5\n",
      "1750/1750 [==============================] - 157s 89ms/step - loss: 0.6608 - accuracy: 0.9224 - val_loss: 0.4413 - val_accuracy: 0.9392 - lr: 0.0100\n",
      "Epoch 5/5\n",
      "1750/1750 [==============================] - 155s 89ms/step - loss: 0.6452 - accuracy: 0.9230 - val_loss: 1.1196 - val_accuracy: 0.9712 - lr: 0.0100\n"
     ]
    }
   ],
   "source": [
    "history = model.fit(train_batch,\n",
    "                              epochs = 5, \n",
    "                              steps_per_epoch = len(train_batch),\n",
    "                              validation_data = val_batch,\n",
    "                              validation_steps = len(val_batch),\n",
    "                              verbose = 1,\n",
    "                             callbacks = [learning_rate_reduction])"
   ]
  },
  {
   "cell_type": "code",
   "execution_count": 34,
   "id": "e43c7055",
   "metadata": {},
   "outputs": [
    {
     "name": "stdout",
     "output_type": "stream",
     "text": [
      "110/110 [==============================] - 23s 208ms/step - loss: 0.5908 - accuracy: 0.9872\n",
      "98.71785640716553\n"
     ]
    }
   ],
   "source": [
    "res = model.evaluate(x, y, batch_size = 1024)\n",
    "print(res[1]*100)"
   ]
  },
  {
   "cell_type": "code",
   "execution_count": 35,
   "id": "e9384a0c",
   "metadata": {},
   "outputs": [
    {
     "name": "stdout",
     "output_type": "stream",
     "text": [
      "INFO:tensorflow:Assets written to: C:\\Users\\Adil\\Documents\\handwritten_digit_recognition\\model2\\assets\n"
     ]
    }
   ],
   "source": [
    "model.save(\"C:\\\\Users\\\\Adil\\\\Documents\\\\handwritten_digit_recognition\\\\model2\\\\\")"
   ]
  },
  {
   "cell_type": "code",
   "execution_count": null,
   "id": "ba44d226",
   "metadata": {},
   "outputs": [],
   "source": []
  }
 ],
 "metadata": {
  "kernelspec": {
   "display_name": "Python 3 (ipykernel)",
   "language": "python",
   "name": "python3"
  },
  "language_info": {
   "codemirror_mode": {
    "name": "ipython",
    "version": 3
   },
   "file_extension": ".py",
   "mimetype": "text/x-python",
   "name": "python",
   "nbconvert_exporter": "python",
   "pygments_lexer": "ipython3",
   "version": "3.9.7"
  }
 },
 "nbformat": 4,
 "nbformat_minor": 5
}
