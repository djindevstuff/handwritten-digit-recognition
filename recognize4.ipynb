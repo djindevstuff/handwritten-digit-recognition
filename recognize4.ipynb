{
 "cells": [
  {
   "cell_type": "code",
   "execution_count": 1,
   "id": "7ee01442",
   "metadata": {},
   "outputs": [],
   "source": [
    "import numpy as np\n",
    "import pandas as pd\n",
    "import tensorflow as tf\n",
    "from sklearn.model_selection import train_test_split"
   ]
  },
  {
   "cell_type": "code",
   "execution_count": 2,
   "id": "66508698",
   "metadata": {},
   "outputs": [],
   "source": [
    "from keras.models import Sequential\n",
    "from keras.layers import Conv2D, MaxPool2D, Dropout, Flatten, Dense, BatchNormalization\n",
    "from tensorflow.keras.utils import to_categorical\n",
    "from tensorflow.keras.preprocessing.image import ImageDataGenerator\n",
    "from tensorflow.keras.optimizers import RMSprop\n",
    "from tensorflow.keras.callbacks import ReduceLROnPlateau\n",
    "from tensorflow.keras.datasets import mnist"
   ]
  },
  {
   "cell_type": "code",
   "execution_count": 3,
   "id": "34edc58c",
   "metadata": {},
   "outputs": [
    {
     "name": "stdout",
     "output_type": "stream",
     "text": [
      "(42000, 785) (28000, 784)\n"
     ]
    }
   ],
   "source": [
    "train_data = pd.read_csv(\"input/train.csv\")\n",
    "test_data = pd.read_csv(\"input/test.csv\")\n",
    "print(train_data.shape, test_data.shape)"
   ]
  },
  {
   "cell_type": "code",
   "execution_count": 4,
   "id": "f9152e4c",
   "metadata": {},
   "outputs": [
    {
     "name": "stdout",
     "output_type": "stream",
     "text": [
      "(70000, 28, 28, 1) (70000,)\n"
     ]
    }
   ],
   "source": [
    "#loading the MNIST dataset\n",
    "(x_train1, y_train1), (x_test1, y_test1) = mnist.load_data()\n",
    "\n",
    "#join the training and testing set\n",
    "x_train1 = np.concatenate((x_test1, x_train1)) \n",
    "y_train1 = np.concatenate((y_test1, y_train1))\n",
    "\n",
    "#Reshaping the array\n",
    "x_train1 = x_train1.reshape((x_train1.shape[0], 28, 28, 1))\n",
    "print(x_train1.shape, y_train1.shape)"
   ]
  },
  {
   "cell_type": "code",
   "execution_count": 5,
   "id": "51faa3c0",
   "metadata": {},
   "outputs": [],
   "source": [
    "#drop the label from dataset\n",
    "x = np.array(train_data.drop(['label'], axis = 1))\n",
    "\n",
    "#store the label in y variable\n",
    "y = np.array(train_data['label'])\n",
    "test_data = np.array(test_data) #creating a numpy array\n",
    "\n",
    "#Reshaping the array\n",
    "x = x.reshape((x.shape[0], 28, 28, 1)) \n",
    "test_data = test_data.reshape(test_data.shape[0], 28, 28, 1)"
   ]
  },
  {
   "cell_type": "code",
   "execution_count": 6,
   "id": "17334703",
   "metadata": {},
   "outputs": [],
   "source": [
    "x = np.concatenate((x, x_train1))\n",
    "y = np.concatenate((y, y_train1))"
   ]
  },
  {
   "cell_type": "code",
   "execution_count": 7,
   "id": "f8a03848",
   "metadata": {},
   "outputs": [
    {
     "name": "stdout",
     "output_type": "stream",
     "text": [
      "(112000, 28, 28, 1) (112000, 10)\n"
     ]
    }
   ],
   "source": [
    "#normalizing the pixel values\n",
    "x = x/255\n",
    "test_data = test_data/255\n",
    "y = to_categorical(y, num_classes = 10)\n",
    "\n",
    "print(x.shape, y.shape)"
   ]
  },
  {
   "cell_type": "code",
   "execution_count": 8,
   "id": "39ca9390",
   "metadata": {},
   "outputs": [
    {
     "name": "stdout",
     "output_type": "stream",
     "text": [
      "(100800, 28, 28, 1) (100800, 10) (11200, 28, 28, 1) (11200, 10)\n"
     ]
    }
   ],
   "source": [
    "#Split the array into random train and test subsets\n",
    "x_train, x_test, y_train, y_test = train_test_split(x, y, test_size = 0.10, shuffle = True)\n",
    "print(x_train.shape, y_train.shape, x_test.shape, y_test.shape)"
   ]
  },
  {
   "cell_type": "code",
   "execution_count": 9,
   "id": "808fca91",
   "metadata": {},
   "outputs": [
    {
     "data": {
      "image/png": "[encoded data removed]",
      "text/plain": [
       "<Figure size 432x288 with 1 Axes>"
      ]
     },
     "metadata": {
      "needs_background": "light"
     },
     "output_type": "display_data"
    },
    {
     "data": {
      "text/plain": [
       "7"
      ]
     },
     "execution_count": 9,
     "metadata": {},
     "output_type": "execute_result"
    },
    {
     "data": {
      "image/png": "[encoded data removed]",
      "text/plain": [
       "<Figure size 432x288 with 1 Axes>"
      ]
     },
     "metadata": {
      "needs_background": "light"
     },
     "output_type": "display_data"
    }
   ],
   "source": [
    "import matplotlib.pyplot as plt\n",
    "plt.imshow(x_train1[0])\n",
    "plt.show()\n",
    "plt.imshow(x_train1[0],cmap=plt.cm.binary)\n",
    "y_train1[0]"
   ]
  },
  {
   "cell_type": "code",
   "execution_count": 10,
   "id": "b3d7ce88",
   "metadata": {},
   "outputs": [
    {
     "name": "stdout",
     "output_type": "stream",
     "text": [
      "Model: \"sequential\"\n",
      "_________________________________________________________________\n",
      " Layer (type)                Output Shape              Param #   \n",
      "=================================================================\n",
      " conv2d (Conv2D)             (None, 26, 26, 32)        320       \n",
      "                                                                 \n",
      " conv2d_1 (Conv2D)           (None, 24, 24, 32)        9248      \n",
      "                                                                 \n",
      " max_pooling2d (MaxPooling2D  (None, 12, 12, 32)       0         \n",
      " )                                                               \n",
      "                                                                 \n",
      " batch_normalization (BatchN  (None, 12, 12, 32)       128       \n",
      " ormalization)                                                   \n",
      "                                                                 \n",
      " conv2d_2 (Conv2D)           (None, 10, 10, 64)        18496     \n",
      "                                                                 \n",
      " conv2d_3 (Conv2D)           (None, 8, 8, 64)          36928     \n",
      "                                                                 \n",
      " batch_normalization_1 (Batc  (None, 8, 8, 64)         256       \n",
      " hNormalization)                                                 \n",
      "                                                                 \n",
      " conv2d_4 (Conv2D)           (None, 6, 6, 64)          36928     \n",
      "                                                                 \n",
      " conv2d_5 (Conv2D)           (None, 4, 4, 64)          36928     \n",
      "                                                                 \n",
      " batch_normalization_2 (Batc  (None, 4, 4, 64)         256       \n",
      " hNormalization)                                                 \n",
      "                                                                 \n",
      " flatten (Flatten)           (None, 1024)              0         \n",
      "                                                                 \n",
      " dense (Dense)               (None, 128)               131200    \n",
      "                                                                 \n",
      " dropout (Dropout)           (None, 128)               0         \n",
      "                                                                 \n",
      " dense_1 (Dense)             (None, 10)                1290      \n",
      "                                                                 \n",
      "=================================================================\n",
      "Total params: 271,978\n",
      "Trainable params: 271,658\n",
      "Non-trainable params: 320\n",
      "_________________________________________________________________\n"
     ]
    }
   ],
   "source": [
    "model = Sequential()\n",
    "\n",
    "model.add(Conv2D(filters = 32, kernel_size = (3,3), activation ='relu', input_shape = (28,28,1)))\n",
    "model.add(Conv2D(filters = 32, kernel_size = (3,3), activation ='relu'))\n",
    "model.add(MaxPool2D((2,2)))\n",
    "\n",
    "model.add(BatchNormalization())\n",
    "\n",
    "model.add(Conv2D(filters = 64, kernel_size = (3,3), activation ='relu'))\n",
    "model.add(Conv2D(filters = 64, kernel_size = (3,3), activation ='relu'))\n",
    "\n",
    "model.add(BatchNormalization())\n",
    "\n",
    "model.add(Conv2D(filters = 64, kernel_size = (3,3), activation ='relu'))\n",
    "model.add(Conv2D(filters = 64, kernel_size = (3,3), activation ='relu'))\n",
    "\n",
    "model.add(BatchNormalization())\n",
    "\n",
    "model.add(Flatten())\n",
    "\n",
    "model.add(Dense(128, activation = \"relu\"))\n",
    "model.add(Dropout(0.30))\n",
    "model.add(Dense(10, activation = \"softmax\"))\n",
    "\n",
    "\n",
    "optimizer = RMSprop(learning_rate = 0.01, rho = 0.9, epsilon = 1e-08, decay = 0.0)\n",
    "\n",
    "model.compile(optimizer = optimizer, loss = 'categorical_crossentropy', metrics = ['accuracy'])\n",
    "\n",
    "model.summary()"
   ]
  },
  {
   "cell_type": "code",
   "execution_count": 11,
   "id": "c657fe52",
   "metadata": {},
   "outputs": [],
   "source": [
    "datagen = ImageDataGenerator(rotation_range = 10, zoom_range = 0.1, width_shift_range = 0.1, height_shift_range = 0.1,)\n",
    "\n",
    "train_batch = datagen.flow(x, y, batch_size = 64)\n",
    "val_batch = datagen.flow(x_test, y_test, batch_size = 64)"
   ]
  },
  {
   "cell_type": "code",
   "execution_count": 12,
   "id": "52efee15",
   "metadata": {},
   "outputs": [],
   "source": [
    "'''Models often benefit from reducing the learning rate by a factor of 2-10 once learning stagnates.\n",
    "This callback monitors a quantity and if no improvement is seen for a 'patience' number of epochs, the learning rate\n",
    "is reduced.'''\n",
    "learning_rate_reduction = ReduceLROnPlateau(monitor = 'val_loss', patience = 3, verbose = 1, factor = 0.1, min_lr = 0.00001)"
   ]
  },
  {
   "cell_type": "code",
   "execution_count": 13,
   "id": "8acc2969",
   "metadata": {},
   "outputs": [
    {
     "name": "stdout",
     "output_type": "stream",
     "text": [
      "Epoch 1/20\n",
      "1750/1750 [==============================] - 101s 57ms/step - loss: 0.3724 - accuracy: 0.9081 - val_loss: 0.2755 - val_accuracy: 0.9476 - lr: 0.0100\n",
      "Epoch 2/20\n",
      "1750/1750 [==============================] - 101s 58ms/step - loss: 0.2381 - accuracy: 0.9560 - val_loss: 0.5323 - val_accuracy: 0.8958 - lr: 0.0100\n",
      "Epoch 3/20\n",
      "1750/1750 [==============================] - 101s 58ms/step - loss: 0.2807 - accuracy: 0.9567 - val_loss: 0.1928 - val_accuracy: 0.9708 - lr: 0.0100\n",
      "Epoch 4/20\n",
      "1750/1750 [==============================] - 100s 57ms/step - loss: 0.3063 - accuracy: 0.9563 - val_loss: 0.2605 - val_accuracy: 0.9696 - lr: 0.0100\n",
      "Epoch 5/20\n",
      "1750/1750 [==============================] - 105s 60ms/step - loss: 0.3276 - accuracy: 0.9550 - val_loss: 0.2518 - val_accuracy: 0.9666 - lr: 0.0100\n",
      "Epoch 6/20\n",
      "1750/1750 [==============================] - ETA: 0s - loss: 0.3647 - accuracy: 0.9513\n",
      "Epoch 00006: ReduceLROnPlateau reducing learning rate to 0.0009999999776482583.\n",
      "1750/1750 [==============================] - 97s 56ms/step - loss: 0.3647 - accuracy: 0.9513 - val_loss: 0.3994 - val_accuracy: 0.9287 - lr: 0.0100\n",
      "Epoch 7/20\n",
      "1750/1750 [==============================] - 96s 55ms/step - loss: 0.1640 - accuracy: 0.9745 - val_loss: 0.0703 - val_accuracy: 0.9886 - lr: 1.0000e-03\n",
      "Epoch 8/20\n",
      "1750/1750 [==============================] - 100s 57ms/step - loss: 0.1393 - accuracy: 0.9804 - val_loss: 0.0526 - val_accuracy: 0.9894 - lr: 1.0000e-03\n",
      "Epoch 9/20\n",
      "1750/1750 [==============================] - 98s 56ms/step - loss: 0.1250 - accuracy: 0.9821 - val_loss: 0.0623 - val_accuracy: 0.9896 - lr: 1.0000e-03\n",
      "Epoch 10/20\n",
      "1750/1750 [==============================] - 99s 57ms/step - loss: 0.1224 - accuracy: 0.9835 - val_loss: 0.0608 - val_accuracy: 0.9906 - lr: 1.0000e-03\n",
      "Epoch 11/20\n",
      "1750/1750 [==============================] - 99s 56ms/step - loss: 0.1135 - accuracy: 0.9842 - val_loss: 0.0488 - val_accuracy: 0.9901 - lr: 1.0000e-03\n",
      "Epoch 12/20\n",
      "1750/1750 [==============================] - 97s 56ms/step - loss: 0.1256 - accuracy: 0.9824 - val_loss: 0.0524 - val_accuracy: 0.9903 - lr: 1.0000e-03\n",
      "Epoch 13/20\n",
      "1750/1750 [==============================] - 97s 56ms/step - loss: 0.1061 - accuracy: 0.9836 - val_loss: 0.0433 - val_accuracy: 0.9913 - lr: 1.0000e-03\n",
      "Epoch 14/20\n",
      "1750/1750 [==============================] - 93s 53ms/step - loss: 0.1046 - accuracy: 0.9836 - val_loss: 0.0479 - val_accuracy: 0.9911 - lr: 1.0000e-03\n",
      "Epoch 15/20\n",
      "1750/1750 [==============================] - 93s 53ms/step - loss: 0.1026 - accuracy: 0.9845 - val_loss: 0.0636 - val_accuracy: 0.9879 - lr: 1.0000e-03\n",
      "Epoch 16/20\n",
      "1750/1750 [==============================] - 93s 53ms/step - loss: 0.1027 - accuracy: 0.9837 - val_loss: 0.0419 - val_accuracy: 0.9920 - lr: 1.0000e-03\n",
      "Epoch 17/20\n",
      "1750/1750 [==============================] - 93s 53ms/step - loss: 0.1033 - accuracy: 0.9836 - val_loss: 0.0487 - val_accuracy: 0.9885 - lr: 1.0000e-03\n",
      "Epoch 18/20\n",
      "1750/1750 [==============================] - 94s 54ms/step - loss: 0.1002 - accuracy: 0.9846 - val_loss: 0.1132 - val_accuracy: 0.9880 - lr: 1.0000e-03\n",
      "Epoch 19/20\n",
      "1749/1750 [============================>.] - ETA: 0s - loss: 0.1028 - accuracy: 0.9836\n",
      "Epoch 00019: ReduceLROnPlateau reducing learning rate to 9.999999310821295e-05.\n",
      "1750/1750 [==============================] - 93s 53ms/step - loss: 0.1030 - accuracy: 0.9836 - val_loss: 0.1815 - val_accuracy: 0.9887 - lr: 1.0000e-03\n",
      "Epoch 20/20\n",
      "1750/1750 [==============================] - 92s 53ms/step - loss: 0.0820 - accuracy: 0.9875 - val_loss: 0.0615 - val_accuracy: 0.9935 - lr: 1.0000e-04\n"
     ]
    }
   ],
   "source": [
    "#Training the model for a fixed number of epochs(iterations on a dataset).\n",
    "history = model.fit(train_batch,\n",
    "                              epochs = 20, \n",
    "                              steps_per_epoch = len(train_batch),\n",
    "                              validation_data = val_batch,\n",
    "                              validation_steps = len(val_batch),\n",
    "                              verbose = 1,\n",
    "                             callbacks = [learning_rate_reduction])"
   ]
  },
  {
   "cell_type": "code",
   "execution_count": 14,
   "id": "e43c7055",
   "metadata": {},
   "outputs": [
    {
     "name": "stdout",
     "output_type": "stream",
     "text": [
      "110/110 [==============================] - 11s 100ms/step - loss: 0.5300 - accuracy: 0.9940\n",
      "99.39910769462585\n"
     ]
    }
   ],
   "source": [
    "#Finding the loss value & metrics values for the model in test mode.\n",
    "res = model.evaluate(x, y, batch_size = 1024)\n",
    "print(res[1]*100)"
   ]
  },
  {
   "cell_type": "code",
   "execution_count": 15,
   "id": "e9384a0c",
   "metadata": {},
   "outputs": [
    {
     "name": "stdout",
     "output_type": "stream",
     "text": [
      "INFO:tensorflow:Assets written to: C:\\Users\\adila\\Documents\\handwritten_digit_recognition\\model4\\assets\n"
     ]
    }
   ],
   "source": [
    "model.save(\"C:\\\\Users\\\\adila\\\\Documents\\\\handwritten_digit_recognition\\\\model4\\\\\")"
   ]
  },
  {
   "cell_type": "code",
   "execution_count": null,
   "id": "ba44d226",
   "metadata": {},
   "outputs": [],
   "source": []
  }
 ],
 "metadata": {
  "kernelspec": {
   "display_name": "Python 3 (ipykernel)",
   "language": "python",
   "name": "python3"
  },
  "language_info": {
   "codemirror_mode": {
    "name": "ipython",
    "version": 3
   },
   "file_extension": ".py",
   "mimetype": "text/x-python",
   "name": "python",
   "nbconvert_exporter": "python",
   "pygments_lexer": "ipython3",
   "version": "3.9.7"
  }
 },
 "nbformat": 4,
 "nbformat_minor": 5
}
